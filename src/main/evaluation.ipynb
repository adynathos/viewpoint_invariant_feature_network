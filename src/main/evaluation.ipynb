{
 "cells": [
  {
   "cell_type": "markdown",
   "metadata": {
    "ExecuteTime": {
     "end_time": "2017-07-26T15:33:29.124310Z",
     "start_time": "2017-07-26T15:33:28.749642Z"
    },
    "scrolled": true
   },
   "source": [
    "# Evaluation"
   ]
  },
  {
   "cell_type": "code",
   "execution_count": null,
   "metadata": {
    "ExecuteTime": {
     "end_time": "2017-09-10T23:04:18.165053Z",
     "start_time": "2017-09-10T23:04:18.146406Z"
    }
   },
   "outputs": [],
   "source": [
    "get_ipython().magic('run util_notebook.py')\n",
    "get_ipython().magic('run -i geometry.py')"
   ]
  },
  {
   "cell_type": "code",
   "execution_count": null,
   "metadata": {
    "ExecuteTime": {
     "end_time": "2017-09-10T23:04:18.632637Z",
     "start_time": "2017-09-10T23:04:18.613549Z"
    },
    "collapsed": true
   },
   "outputs": [],
   "source": [
    "get_ipython().magic('run -i config.py')\n",
    "get_ipython().magic('run -i datasets.py')\n",
    "get_ipython().magic('run -i planes.py')"
   ]
  },
  {
   "cell_type": "code",
   "execution_count": null,
   "metadata": {
    "ExecuteTime": {
     "end_time": "2017-09-10T23:04:19.143042Z",
     "start_time": "2017-09-10T23:04:19.120078Z"
    },
    "collapsed": true
   },
   "outputs": [],
   "source": [
    "get_ipython().magic('run -i keypoint_projection.py')\n",
    "get_ipython().magic('run -i patches.py')\n",
    "get_ipython().magic('run -i detectors.py')\n",
    "get_ipython().magic('run -i matching.py')"
   ]
  },
  {
   "cell_type": "code",
   "execution_count": null,
   "metadata": {
    "ExecuteTime": {
     "end_time": "2017-09-10T22:50:39.633533Z",
     "start_time": "2017-09-10T22:50:39.533591Z"
    },
    "collapsed": true
   },
   "outputs": [],
   "source": [
    "# T-feat networks\n",
    "get_ipython().magic('run -i descriptor_tfeat.py')"
   ]
  },
  {
   "cell_type": "code",
   "execution_count": null,
   "metadata": {
    "ExecuteTime": {
     "end_time": "2017-07-26T15:33:33.871936Z",
     "start_time": "2017-07-26T15:33:32.622141Z"
    }
   },
   "outputs": [],
   "source": [
    "# Networks trained on 7sc\n",
    "tfeat_7sc_flat = TFeatRunner(name='net_7sc_int', model_file= pp(DIR_OUT_MODELS, '7sc_flat_int/weights_020.hdf5'), net_type=PatchMode.INTENSITY)\n",
    "tfeat_7sc_depth = TFeatRunner(name='net_7sc_depth', model_file= pp(DIR_OUT_MODELS, '7sc_depth/weights_020.hdf5'), net_type=PatchMode.DEPTH)\n",
    "tfeat_7sc_norm = TFeatRunner(name='net_7sc_norm', model_file= pp(DIR_OUT_MODELS, '7sc_normals/weights_020.hdf5'), net_type=PatchMode.NORMALS)\n",
    "tfeat_7sc_unw = TFeatRunner(name='net_7sc_unw', model_file= pp(DIR_OUT_MODELS, '7sc_unwarp_int/weights_020.hdf5'), net_type=PatchMode.INTENSITY)"
   ]
  },
  {
   "cell_type": "code",
   "execution_count": null,
   "metadata": {
    "ExecuteTime": {
     "end_time": "2017-07-26T15:33:33.930277Z",
     "start_time": "2017-07-26T15:33:33.874152Z"
    }
   },
   "outputs": [],
   "source": [
    "# Networks trained on synth\n",
    "tfeat_syn_flat = TFeatRunner(name='net_syn_int', model_file= pp(DIR_OUT_MODELS, 'synth_flat_intensity/weights_020.hdf5'), net_type=PatchMode.INTENSITY)\n",
    "tfeat_syn_depth = TFeatRunner(name='net_syn_depth', model_file= pp(DIR_OUT_MODELS, 'synth_depth/weights_020.hdf5'), net_type=PatchMode.DEPTH)\n",
    "tfeat_syn_norm = TFeatRunner(name='net_syn_norm', model_file= pp(DIR_OUT_MODELS, 'synth_normals/weights_020.hdf5'), net_type=PatchMode.NORMALS)\n",
    "tfeat_syn_unw = TFeatRunner(name='net_syn_unw', model_file= pp(DIR_OUT_MODELS, 'synth_unw/weights_020.hdf5'), net_type=PatchMode.INTENSITY)"
   ]
  },
  {
   "cell_type": "code",
   "execution_count": null,
   "metadata": {
    "ExecuteTime": {
     "end_time": "2017-07-26T15:33:33.975644Z",
     "start_time": "2017-07-26T15:33:33.932387Z"
    }
   },
   "outputs": [],
   "source": [
    "# Networks trained on arch\n",
    "tfeat_arch_flat = TFeatRunner(name='net_arch_int', model_file= pp(DIR_OUT_MODELS, 'arch_flat_int/weights_020.hdf5'), net_type=PatchMode.INTENSITY)\n",
    "tfeat_arch_depth = TFeatRunner(name='net_arch_depth', model_file= pp(DIR_OUT_MODELS, 'arch_depth/weights_020.hdf5'), net_type=PatchMode.DEPTH)\n",
    "tfeat_arch_norm = TFeatRunner(name='net_arch_norm', model_file= pp(DIR_OUT_MODELS, 'arch_normals/weights_020.hdf5'), net_type=PatchMode.NORMALS)\n",
    "tfeat_arch_unw = TFeatRunner(name='net_arch_unw', model_file= pp(DIR_OUT_MODELS, 'arch_unw_int/weights_020.hdf5'), net_type=PatchMode.INTENSITY)"
   ]
  },
  {
   "cell_type": "code",
   "execution_count": null,
   "metadata": {
    "ExecuteTime": {
     "end_time": "2017-07-26T15:33:37.060804Z",
     "start_time": "2017-07-26T15:33:36.997987Z"
    },
    "collapsed": true
   },
   "outputs": [],
   "source": [
    "# Descriptor networks to be evaluated:\n",
    "flat_nets_arch = [tfeat_arch_flat, tfeat_arch_depth, tfeat_arch_norm]\n",
    "flat_nets_7sc = [tfeat_7sc_flat, tfeat_7sc_depth, tfeat_7sc_norm]\n",
    "flat_nets_syn = [tfeat_syn_flat, tfeat_syn_depth, tfeat_syn_norm]\n",
    "flat_nets_all = flat_nets_arch + flat_nets_7sc + flat_nets_syn\n",
    "unw_nets_all = [tfeat_arch_flat, tfeat_arch_unw, tfeat_7sc_flat, tfeat_7sc_unw, tfeat_syn_flat, tfeat_syn_unw]\n",
    "\n",
    "def describe_all(fr):\n",
    "\t\"\"\"\n",
    "\tRuns the whole pipeline of detecting describing and matching keypoints\n",
    "\tThen accumulates the accuracy metrics.\n",
    "\n",
    "\tpatches: flat unwarp unwarp_det\n",
    "\tdescriptors:\n",
    "\t\tsift\n",
    "\t\tnets\n",
    "\t\"\"\"\n",
    "\t# planes\n",
    "\tframe_detect_planes(fr, b_normals=True)\n",
    "\n",
    "\t# copy the sequence to use with 2 detectors\n",
    "\tfr_flat_det = fr\n",
    "\tfr_unw_det = frame_clone(fr)\n",
    "\t\n",
    "\t# detect points on original frames\n",
    "\t#patches: original\n",
    "\tframe_detect_sift_flat(fr_flat_det, b_cut_patches=True)\n",
    "\tp_flat = fr_flat_det.patch_lists['flat']\n",
    "\t\n",
    "\t# patches: unwarp after detection\n",
    "\tframe_describe_unwarp(fr_flat_det)\n",
    "\tp_unw = fr_flat_det.patch_lists['unwarp']\n",
    "\t\n",
    "\t# patches: unwarp before detection\n",
    "\tframe_detect_sift_unwarp(fr_unw_det)\n",
    "\tp_unwdet = fr_unw_det.patch_lists['unwarp_det']\n",
    "\t\n",
    "\t# networks trained on original patches\n",
    "\tfor net in flat_nets_all: \n",
    "\t\tnet.describe_patch_list(p_flat)\n",
    "\t\n",
    "\t# networks trained on unwarped patches\n",
    "\tfor net in unw_nets_all:\n",
    "\t\tnet.describe_patch_list(p_unw)\n",
    "\t\tnet.describe_patch_list(p_unwdet)\n",
    "\t\n",
    "\treturn [fr_flat_det, fr_unw_det]"
   ]
  },
  {
   "cell_type": "code",
   "execution_count": null,
   "metadata": {
    "ExecuteTime": {
     "end_time": "2017-07-26T12:36:31.821340Z",
     "start_time": "2017-07-26T12:36:31.767229Z"
    },
    "collapsed": true
   },
   "outputs": [],
   "source": []
  },
  {
   "cell_type": "code",
   "execution_count": null,
   "metadata": {
    "collapsed": true
   },
   "outputs": [],
   "source": []
  },
  {
   "cell_type": "code",
   "execution_count": null,
   "metadata": {
    "ExecuteTime": {
     "end_time": "2017-07-26T15:33:40.357635Z",
     "start_time": "2017-07-26T15:33:40.117276Z"
    },
    "collapsed": true
   },
   "outputs": [],
   "source": [
    "# DATASETS: synth\n",
    "dsets_synth = discover_synthetic_dsets(\n",
    "\tCFG_BASE, \n",
    "\tpp(DIR_DATA, 'synthetic')\n",
    ")\n",
    "dsets_synth_train = dsets_synth[:300]\n",
    "dsets_synth_test = dsets_synth[300:]"
   ]
  },
  {
   "cell_type": "code",
   "execution_count": null,
   "metadata": {
    "ExecuteTime": {
     "end_time": "2017-07-25T17:11:10.135062Z",
     "start_time": "2017-07-25T17:11:10.019281Z"
    },
    "collapsed": true
   },
   "outputs": [],
   "source": [
    "# DATASETS: 7SC\n",
    "dsets_7sc = discover_7scenes(CFG_BASE, \n",
    "\tscenes_train=['pumpkin', 'office', 'stairs', 'chess'],\n",
    "\tscenes_test=['fire', 'redkitchen', 'heads'],\n",
    ")\n",
    "dsets_7sc_train = dsets_7sc['train']\n",
    "dsets_7sc_test = dsets_7sc['test']"
   ]
  },
  {
   "cell_type": "code",
   "execution_count": null,
   "metadata": {
    "ExecuteTime": {
     "end_time": "2017-07-26T13:26:53.030002Z",
     "start_time": "2017-07-26T13:26:52.903150Z"
    },
    "collapsed": true
   },
   "outputs": [],
   "source": [
    "# DATASETS: arch\n",
    "dsets_arch_test = [\n",
    "\tDatasetSouthBuilding(CFG_BASE),\n",
    "\tDatasetPersonHall(CFG_BASE),\n",
    "]"
   ]
  },
  {
   "cell_type": "code",
   "execution_count": null,
   "metadata": {
    "ExecuteTime": {
     "end_time": "2017-07-25T12:30:16.974623Z",
     "start_time": "2017-07-25T12:25:54.704811Z"
    },
    "collapsed": true
   },
   "outputs": [],
   "source": [
    "# Eval on: SYNTH SHORT\n",
    "evaluation_global(\n",
    "\tdsets_synth_test[:5],\n",
    "\tpp(DIR_OUT_EVAL, 'eval_synth_syn-7sc_short'),\n",
    "\tdescribe_all,\n",
    "\tfixed_seq_len=5,\n",
    "\twin_size=5,\n",
    "\tmultiproc=False,\n",
    "\tmultidet=True,\n",
    ")\n",
    "None"
   ]
  },
  {
   "cell_type": "code",
   "execution_count": null,
   "metadata": {
    "ExecuteTime": {
     "end_time": "2017-07-26T16:40:57.404591Z",
     "start_time": "2017-07-26T15:34:21.871318Z"
    }
   },
   "outputs": [],
   "source": [
    "# Eval on: SYNTH LONG\n",
    "evaluation_global(\n",
    "\tdsets_synth_test[:50],\n",
    "\tpp(DIR_OUT_EVAL, 'eval_synth_all_long'),\n",
    "\tdescribe_all,\n",
    "\tfixed_seq_len=5,\n",
    "\twin_size=5,\n",
    "\tmultiproc=False,\n",
    "\tmultidet=True,\n",
    ")\n",
    "None"
   ]
  },
  {
   "cell_type": "code",
   "execution_count": null,
   "metadata": {
    "ExecuteTime": {
     "end_time": "2017-07-25T19:27:50.051568Z",
     "start_time": "2017-07-25T19:19:38.053338Z"
    }
   },
   "outputs": [],
   "source": [
    "# Eval on: 7SC short\n",
    "evaluation_global(\n",
    "\tdsets_7sc_test[::5],\n",
    "\tpp(DIR_OUT_EVAL, 'eval_7sc_arch-7sc_short'),\n",
    "\tdescribe_arch,\n",
    "\t(1, 15),\n",
    "\twin_size=6,\n",
    "\tmultiproc=False,\n",
    "\tmultidet=True,\n",
    "\tdset_max_frame_count=60,\n",
    ")\n",
    "None"
   ]
  },
  {
   "cell_type": "code",
   "execution_count": null,
   "metadata": {
    "collapsed": true
   },
   "outputs": [],
   "source": [
    "# Eval on: 7SC long\n",
    "evaluation_global(\n",
    "\tdsets_7sc_test,\n",
    "\tpp(DIR_OUT_EVAL, 'eval_7sc_syn-7sc_long'),\n",
    "\tdescribe_all,\n",
    "\t(1, 15),\n",
    "\twin_size=6,\n",
    "\tmultiproc=False,\n",
    "\tmultidet=True,\n",
    ")"
   ]
  },
  {
   "cell_type": "code",
   "execution_count": null,
   "metadata": {
    "ExecuteTime": {
     "end_time": "2017-07-25T18:04:54.758514Z",
     "start_time": "2017-07-25T17:31:40.159584Z"
    }
   },
   "outputs": [],
   "source": [
    "# Eval on: arch short\n",
    "evaluation_global(\n",
    "\tdsets_arch_test[::-1],\n",
    "\tpp(DIR_OUT_EVAL, 'eval_arch_arch-7sc_short'),\n",
    "\tdescribe_arch,\n",
    "\t(1, 3),\n",
    "\twin_size=5,\n",
    "\tmultiproc=False,\n",
    "\tmultidet=True,\n",
    "\tdset_max_frame_count=20,\n",
    ")"
   ]
  },
  {
   "cell_type": "code",
   "execution_count": null,
   "metadata": {
    "ExecuteTime": {
     "end_time": "2017-07-26T15:16:50.454646Z",
     "start_time": "2017-07-26T13:27:04.694102Z"
    }
   },
   "outputs": [],
   "source": [
    "# Eval on: arch long\n",
    "evaluation_global(\n",
    "\tdsets_arch_test[:1],\n",
    "\tpp(DIR_OUT_EVAL, 'eval_arch_all_long'),\n",
    "\tdescribe_all,\n",
    "\t(1, 3),\n",
    "\twin_size=5,\n",
    "\tmultiproc=False,\n",
    "\tmultidet=True,\n",
    ")"
   ]
  }
 ],
 "metadata": {
  "kernelspec": {
   "display_name": "Python 3",
   "language": "python",
   "name": "python3"
  },
  "language_info": {
   "codemirror_mode": {
    "name": "ipython",
    "version": 3
   },
   "file_extension": ".py",
   "mimetype": "text/x-python",
   "name": "python",
   "nbconvert_exporter": "python",
   "pygments_lexer": "ipython3",
   "version": "3.6.2"
  }
 },
 "nbformat": 4,
 "nbformat_minor": 2
}
